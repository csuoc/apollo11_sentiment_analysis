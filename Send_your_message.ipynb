{
 "cells": [
  {
   "cell_type": "markdown",
   "id": "8c2509b3",
   "metadata": {},
   "source": [
    "# SEND YOUR MESSAGE TO THE MOON!"
   ]
  },
  {
   "cell_type": "markdown",
   "id": "d64d77f1",
   "metadata": {},
   "source": [
    "<img src=\"images/messagetothemoon.jpg\" width=400>"
   ]
  },
  {
   "cell_type": "code",
   "execution_count": 1,
   "id": "1f99378e",
   "metadata": {},
   "outputs": [],
   "source": [
    "from tools.postdelete import *"
   ]
  },
  {
   "cell_type": "markdown",
   "id": "fa9e5444",
   "metadata": {},
   "source": [
    "<div class=\"alert alert-block alert-info\"> <b>This is YOUR opportunity to become part of the Apollo 11 crew! Use the function YOUR_MESSAGE() to input a specific time from the mission (1-999999), your message and your name! </b> </div>"
   ]
  },
  {
   "cell_type": "code",
   "execution_count": 2,
   "id": "325f630f",
   "metadata": {},
   "outputs": [
    {
     "name": "stdout",
     "output_type": "stream",
     "text": [
      "Input a time in seconds: 99999\n",
      "Input a message: dsada\n",
      "Who said this? carles\n"
     ]
    },
    {
     "data": {
      "text/plain": [
       "<Response [200]>"
      ]
     },
     "execution_count": 2,
     "metadata": {},
     "output_type": "execute_result"
    }
   ],
   "source": [
    "YOUR_MESSAGE()"
   ]
  },
  {
   "cell_type": "markdown",
   "id": "878d1364",
   "metadata": {},
   "source": [
    "<div class=\"alert alert-block alert-info\"> <b>You don't like the message? No worries! You can delete your previous inserted messages using the function SORRI_I_REGRET() </b> </div>"
   ]
  },
  {
   "cell_type": "code",
   "execution_count": 3,
   "id": "ec26b301",
   "metadata": {},
   "outputs": [
    {
     "name": "stdout",
     "output_type": "stream",
     "text": [
      "Whose messages do you want to delete?: carles\n"
     ]
    },
    {
     "data": {
      "text/plain": [
       "<Response [200]>"
      ]
     },
     "execution_count": 3,
     "metadata": {},
     "output_type": "execute_result"
    }
   ],
   "source": [
    "SORRY_I_REGRET()"
   ]
  },
  {
   "cell_type": "markdown",
   "id": "43bc6c18",
   "metadata": {},
   "source": [
    "<div class=\"alert alert-block alert-success\"> ENJOY! </div>"
   ]
  }
 ],
 "metadata": {
  "kernelspec": {
   "display_name": "Python 3 (ipykernel)",
   "language": "python",
   "name": "python3"
  },
  "language_info": {
   "codemirror_mode": {
    "name": "ipython",
    "version": 3
   },
   "file_extension": ".py",
   "mimetype": "text/x-python",
   "name": "python",
   "nbconvert_exporter": "python",
   "pygments_lexer": "ipython3",
   "version": "3.10.4"
  },
  "toc": {
   "base_numbering": 1,
   "nav_menu": {},
   "number_sections": true,
   "sideBar": true,
   "skip_h1_title": false,
   "title_cell": "Table of Contents",
   "title_sidebar": "Contents",
   "toc_cell": false,
   "toc_position": {},
   "toc_section_display": true,
   "toc_window_display": false
  }
 },
 "nbformat": 4,
 "nbformat_minor": 5
}
